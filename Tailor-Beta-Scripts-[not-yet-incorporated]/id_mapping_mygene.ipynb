{
 "cells": [
  {
   "cell_type": "markdown",
   "metadata": {},
   "source": [
    "# ID mapping using mygene module in Python"
   ]
  },
  {
   "cell_type": "markdown",
   "metadata": {},
   "source": [
    "ID mapping is a very common, often not fun, task for every bioinformatician. Supposedly you have a list of gene symbols or reporter ids from an upstream analysis, and then your next analysis requires to use gene ids (e.g. Entrez gene ids or Ensembl gene ids). So you want to convert that list of gene symbols or reporter ids to corresponding gene ids.\n",
    "\n",
    "Here we want to show you how to use **mygene** module in Python to do ID mapping quickly and easily. **mygene** is essentially a convenient Python module to access [MyGene.info](http://mygene.info) gene query web services."
   ]
  },
  {
   "cell_type": "markdown",
   "metadata": {},
   "source": [
    "### Install **mygene**"
   ]
  },
  {
   "cell_type": "markdown",
   "metadata": {},
   "source": [
    "   Install **mygene** is easy, as *pip* is your friend:\n",
    "\n",
    "       pip install mygene\n",
    "\n",
    "   Now you just need to import it and instantiate MyGeneInfo class:"
   ]
  },
  {
   "cell_type": "code",
   "execution_count": 61,
   "metadata": {},
   "outputs": [
    {
     "ename": "ImportError",
     "evalue": "No module named 'r'",
     "output_type": "error",
     "traceback": [
      "\u001b[0;31m---------------------------------------------------------------------------\u001b[0m",
      "\u001b[0;31mImportError\u001b[0m                               Traceback (most recent call last)",
      "\u001b[0;32m<ipython-input-61-0318c9841034>\u001b[0m in \u001b[0;36m<module>\u001b[0;34m()\u001b[0m\n\u001b[1;32m      6\u001b[0m \u001b[0;32mimport\u001b[0m \u001b[0mcsv\u001b[0m\u001b[0;34m\u001b[0m\u001b[0m\n\u001b[1;32m      7\u001b[0m \u001b[0;32mimport\u001b[0m  \u001b[0mrpy2\u001b[0m\u001b[0;34m\u001b[0m\u001b[0m\n\u001b[0;32m----> 8\u001b[0;31m \u001b[0;32mimport\u001b[0m \u001b[0mr\u001b[0m\u001b[0;34m\u001b[0m\u001b[0m\n\u001b[0m",
      "\u001b[0;31mImportError\u001b[0m: No module named 'r'"
     ]
    }
   ],
   "source": [
    "import mygene as mygene\n",
    "mg = mygene.MyGeneInfo()\n",
    "import os.path\n",
    "from os import path\n",
    "import pandas as pd\n",
    "import csv\n",
    "import  rpy2\n"
   ]
  },
  {
   "cell_type": "code",
   "execution_count": null,
   "metadata": {},
   "outputs": [],
   "source": []
  },
  {
   "cell_type": "code",
   "execution_count": 59,
   "metadata": {},
   "outputs": [
    {
     "ename": "ValueError",
     "evalue": "Invalid file path or buffer object type: <class 'pandas.core.series.Series'>",
     "output_type": "error",
     "traceback": [
      "\u001b[0;31m---------------------------------------------------------------------------\u001b[0m",
      "\u001b[0;31mValueError\u001b[0m                                Traceback (most recent call last)",
      "\u001b[0;32m<ipython-input-59-70469f1b5337>\u001b[0m in \u001b[0;36m<module>\u001b[0;34m()\u001b[0m\n\u001b[1;32m      5\u001b[0m                               'gene_name','transcript_id','tss_id','p_id','geneID'])\n\u001b[1;32m      6\u001b[0m \u001b[0mhg38gtfpart2\u001b[0m\u001b[0;34m=\u001b[0m\u001b[0mhg38GTFcsv\u001b[0m\u001b[0;34m[\u001b[0m\u001b[0;34m'gene_id'\u001b[0m\u001b[0;34m]\u001b[0m\u001b[0;34m\u001b[0m\u001b[0m\n\u001b[0;32m----> 7\u001b[0;31m \u001b[0mhg38gtf2\u001b[0m\u001b[0;34m=\u001b[0m\u001b[0mpd\u001b[0m\u001b[0;34m.\u001b[0m\u001b[0mread_csv\u001b[0m\u001b[0;34m(\u001b[0m\u001b[0mhg38gtfpart2\u001b[0m\u001b[0;34m,\u001b[0m\u001b[0msep\u001b[0m\u001b[0;34m=\u001b[0m\u001b[0;34m';'\u001b[0m\u001b[0;34m,\u001b[0m\u001b[0mnames\u001b[0m\u001b[0;34m=\u001b[0m\u001b[0;34m[\u001b[0m\u001b[0;34m'gene_id'\u001b[0m\u001b[0;34m,\u001b[0m\u001b[0;34m'transcript_id'\u001b[0m\u001b[0;34m,\u001b[0m \u001b[0;34m'tss_id'\u001b[0m\u001b[0;34m,\u001b[0m\u001b[0;34m'p_id'\u001b[0m\u001b[0;34m]\u001b[0m\u001b[0;34m)\u001b[0m\u001b[0;34m\u001b[0m\u001b[0m\n\u001b[0m\u001b[1;32m      8\u001b[0m \u001b[0mhg38gtf2\u001b[0m\u001b[0;34m[\u001b[0m\u001b[0;34m:\u001b[0m\u001b[0;36m5\u001b[0m\u001b[0;34m]\u001b[0m\u001b[0;34m\u001b[0m\u001b[0m\n",
      "\u001b[0;32m~/miniconda3/envs/BioPyEnv/lib/python3.5/site-packages/pandas/io/parsers.py\u001b[0m in \u001b[0;36mparser_f\u001b[0;34m(filepath_or_buffer, sep, delimiter, header, names, index_col, usecols, squeeze, prefix, mangle_dupe_cols, dtype, engine, converters, true_values, false_values, skipinitialspace, skiprows, nrows, na_values, keep_default_na, na_filter, verbose, skip_blank_lines, parse_dates, infer_datetime_format, keep_date_col, date_parser, dayfirst, iterator, chunksize, compression, thousands, decimal, lineterminator, quotechar, quoting, escapechar, comment, encoding, dialect, tupleize_cols, error_bad_lines, warn_bad_lines, skipfooter, skip_footer, doublequote, delim_whitespace, as_recarray, compact_ints, use_unsigned, low_memory, buffer_lines, memory_map, float_precision)\u001b[0m\n\u001b[1;32m    707\u001b[0m                     skip_blank_lines=skip_blank_lines)\n\u001b[1;32m    708\u001b[0m \u001b[0;34m\u001b[0m\u001b[0m\n\u001b[0;32m--> 709\u001b[0;31m         \u001b[0;32mreturn\u001b[0m \u001b[0m_read\u001b[0m\u001b[0;34m(\u001b[0m\u001b[0mfilepath_or_buffer\u001b[0m\u001b[0;34m,\u001b[0m \u001b[0mkwds\u001b[0m\u001b[0;34m)\u001b[0m\u001b[0;34m\u001b[0m\u001b[0m\n\u001b[0m\u001b[1;32m    710\u001b[0m \u001b[0;34m\u001b[0m\u001b[0m\n\u001b[1;32m    711\u001b[0m     \u001b[0mparser_f\u001b[0m\u001b[0;34m.\u001b[0m\u001b[0m__name__\u001b[0m \u001b[0;34m=\u001b[0m \u001b[0mname\u001b[0m\u001b[0;34m\u001b[0m\u001b[0m\n",
      "\u001b[0;32m~/miniconda3/envs/BioPyEnv/lib/python3.5/site-packages/pandas/io/parsers.py\u001b[0m in \u001b[0;36m_read\u001b[0;34m(filepath_or_buffer, kwds)\u001b[0m\n\u001b[1;32m    431\u001b[0m     \u001b[0mcompression\u001b[0m \u001b[0;34m=\u001b[0m \u001b[0m_infer_compression\u001b[0m\u001b[0;34m(\u001b[0m\u001b[0mfilepath_or_buffer\u001b[0m\u001b[0;34m,\u001b[0m \u001b[0mcompression\u001b[0m\u001b[0;34m)\u001b[0m\u001b[0;34m\u001b[0m\u001b[0m\n\u001b[1;32m    432\u001b[0m     filepath_or_buffer, _, compression = get_filepath_or_buffer(\n\u001b[0;32m--> 433\u001b[0;31m         filepath_or_buffer, encoding, compression)\n\u001b[0m\u001b[1;32m    434\u001b[0m     \u001b[0mkwds\u001b[0m\u001b[0;34m[\u001b[0m\u001b[0;34m'compression'\u001b[0m\u001b[0;34m]\u001b[0m \u001b[0;34m=\u001b[0m \u001b[0mcompression\u001b[0m\u001b[0;34m\u001b[0m\u001b[0m\n\u001b[1;32m    435\u001b[0m \u001b[0;34m\u001b[0m\u001b[0m\n",
      "\u001b[0;32m~/miniconda3/envs/BioPyEnv/lib/python3.5/site-packages/pandas/io/common.py\u001b[0m in \u001b[0;36mget_filepath_or_buffer\u001b[0;34m(filepath_or_buffer, encoding, compression)\u001b[0m\n\u001b[1;32m    209\u001b[0m     \u001b[0;32mif\u001b[0m \u001b[0;32mnot\u001b[0m \u001b[0mis_file_like\u001b[0m\u001b[0;34m(\u001b[0m\u001b[0mfilepath_or_buffer\u001b[0m\u001b[0;34m)\u001b[0m\u001b[0;34m:\u001b[0m\u001b[0;34m\u001b[0m\u001b[0m\n\u001b[1;32m    210\u001b[0m         \u001b[0mmsg\u001b[0m \u001b[0;34m=\u001b[0m \u001b[0;34m\"Invalid file path or buffer object type: {_type}\"\u001b[0m\u001b[0;34m\u001b[0m\u001b[0m\n\u001b[0;32m--> 211\u001b[0;31m         \u001b[0;32mraise\u001b[0m \u001b[0mValueError\u001b[0m\u001b[0;34m(\u001b[0m\u001b[0mmsg\u001b[0m\u001b[0;34m.\u001b[0m\u001b[0mformat\u001b[0m\u001b[0;34m(\u001b[0m\u001b[0m_type\u001b[0m\u001b[0;34m=\u001b[0m\u001b[0mtype\u001b[0m\u001b[0;34m(\u001b[0m\u001b[0mfilepath_or_buffer\u001b[0m\u001b[0;34m)\u001b[0m\u001b[0;34m)\u001b[0m\u001b[0;34m)\u001b[0m\u001b[0;34m\u001b[0m\u001b[0m\n\u001b[0m\u001b[1;32m    212\u001b[0m \u001b[0;34m\u001b[0m\u001b[0m\n\u001b[1;32m    213\u001b[0m     \u001b[0;32mreturn\u001b[0m \u001b[0mfilepath_or_buffer\u001b[0m\u001b[0;34m,\u001b[0m \u001b[0;32mNone\u001b[0m\u001b[0;34m,\u001b[0m \u001b[0mcompression\u001b[0m\u001b[0;34m\u001b[0m\u001b[0m\n",
      "\u001b[0;31mValueError\u001b[0m: Invalid file path or buffer object type: <class 'pandas.core.series.Series'>"
     ]
    }
   ],
   "source": [
    "gtfFile=open(\"urine1/cuffcompare_results_hg38_gtf_guided/cuffmerge.combined.gtf\", \"r\")\n",
    "#hg38GTFcsv=pd.DataFrame(gtfFile, sep='\\t')\n",
    "hg38GTFcsv=pd.read_csv(\"urine1/cuffcompare_results_hg38_gtf_guided/cuffmerge.combined.gtf\", sep='\\t',\n",
    "                       names=['seqid','source','type','start', 'end','score','strand','phase','gene_id',\n",
    "                              'gene_name','transcript_id','tss_id','p_id','geneID'])\n",
    "gtf2File=open(\"urine1/cuffcompare_results_hg38_gtf_guided/cuffmerge.combined.part2.gtf\", \"w\")\n",
    "hg38gtfpart2=hg38GTFcsv['gene_id']\n",
    "\n",
    "hg38gtf2=pd.read_csv(hg38gtfpart2,sep=';',names=['gene_id','transcript_id', 'tss_id','p_id'])\n",
    "hg38gtf2[:5]"
   ]
  },
  {
   "cell_type": "code",
   "execution_count": 52,
   "metadata": {},
   "outputs": [
    {
     "ename": "TypeError",
     "evalue": "data argument can't be an iterator",
     "output_type": "error",
     "traceback": [
      "\u001b[0;31m---------------------------------------------------------------------------\u001b[0m",
      "\u001b[0;31mTypeError\u001b[0m                                 Traceback (most recent call last)",
      "\u001b[0;32m<ipython-input-52-7769792518e8>\u001b[0m in \u001b[0;36m<module>\u001b[0;34m()\u001b[0m\n\u001b[1;32m      2\u001b[0m \u001b[0;31m#                     lineterminator = '\\n',quoting = csv.QUOTE_MINIMAL)\u001b[0m\u001b[0;34m\u001b[0m\u001b[0;34m\u001b[0m\u001b[0m\n\u001b[1;32m      3\u001b[0m \u001b[0mhg38gtf\u001b[0m\u001b[0;34m=\u001b[0m\u001b[0mopen\u001b[0m\u001b[0;34m(\u001b[0m\u001b[0;34m\"urine1/cuffcompare_results_hg38_gtf_guided/cuffmerge.combined.gtf\"\u001b[0m\u001b[0;34m,\u001b[0m\u001b[0;34m\"r\"\u001b[0m\u001b[0;34m)\u001b[0m\u001b[0;34m\u001b[0m\u001b[0m\n\u001b[0;32m----> 4\u001b[0;31m \u001b[0mhg38GTFcsv\u001b[0m \u001b[0;34m=\u001b[0m \u001b[0mpd\u001b[0m\u001b[0;34m.\u001b[0m\u001b[0mDataFrame\u001b[0m\u001b[0;34m(\u001b[0m\u001b[0mhg38gtf\u001b[0m\u001b[0;34m,\u001b[0m\u001b[0mcolumns\u001b[0m\u001b[0;34m=\u001b[0m\u001b[0;34m[\u001b[0m\u001b[0;34m'seqid'\u001b[0m\u001b[0;34m,\u001b[0m\u001b[0;34m'source'\u001b[0m\u001b[0;34m,\u001b[0m\u001b[0;34m'type'\u001b[0m\u001b[0;34m,\u001b[0m\u001b[0;34m'start'\u001b[0m\u001b[0;34m,\u001b[0m \u001b[0;34m'end'\u001b[0m\u001b[0;34m,\u001b[0m\u001b[0;34m'score'\u001b[0m\u001b[0;34m,\u001b[0m\u001b[0;34m'strand'\u001b[0m\u001b[0;34m,\u001b[0m\u001b[0;34m'phase'\u001b[0m\u001b[0;34m,\u001b[0m\u001b[0;34m'gene_id'\u001b[0m\u001b[0;34m,\u001b[0m\u001b[0;34m'gene_name'\u001b[0m\u001b[0;34m,\u001b[0m\u001b[0;34m'transcript_id'\u001b[0m\u001b[0;34m,\u001b[0m\u001b[0;34m'tss_id'\u001b[0m\u001b[0;34m,\u001b[0m\u001b[0;34m'p_id'\u001b[0m\u001b[0;34m,\u001b[0m\u001b[0;34m'geneID'\u001b[0m\u001b[0;34m]\u001b[0m\u001b[0;34m)\u001b[0m\u001b[0;34m\u001b[0m\u001b[0m\n\u001b[0m\u001b[1;32m      5\u001b[0m \u001b[0mhg38GTFcsv\u001b[0m\u001b[0;34m\u001b[0m\u001b[0m\n\u001b[1;32m      6\u001b[0m \u001b[0;31m#csvreader = csv.reader(hg38GTFcsv, dialect='mydialect')\u001b[0m\u001b[0;34m\u001b[0m\u001b[0;34m\u001b[0m\u001b[0m\n",
      "\u001b[0;32m~/miniconda3/envs/BioPyEnv/lib/python3.5/site-packages/pandas/core/frame.py\u001b[0m in \u001b[0;36m__init__\u001b[0;34m(self, data, index, columns, dtype, copy)\u001b[0m\n\u001b[1;32m    387\u001b[0m                 \u001b[0mmgr\u001b[0m \u001b[0;34m=\u001b[0m \u001b[0mself\u001b[0m\u001b[0;34m.\u001b[0m\u001b[0m_init_dict\u001b[0m\u001b[0;34m(\u001b[0m\u001b[0;34m{\u001b[0m\u001b[0;34m}\u001b[0m\u001b[0;34m,\u001b[0m \u001b[0mindex\u001b[0m\u001b[0;34m,\u001b[0m \u001b[0mcolumns\u001b[0m\u001b[0;34m,\u001b[0m \u001b[0mdtype\u001b[0m\u001b[0;34m=\u001b[0m\u001b[0mdtype\u001b[0m\u001b[0;34m)\u001b[0m\u001b[0;34m\u001b[0m\u001b[0m\n\u001b[1;32m    388\u001b[0m         \u001b[0;32melif\u001b[0m \u001b[0misinstance\u001b[0m\u001b[0;34m(\u001b[0m\u001b[0mdata\u001b[0m\u001b[0;34m,\u001b[0m \u001b[0mcollections\u001b[0m\u001b[0;34m.\u001b[0m\u001b[0mIterator\u001b[0m\u001b[0;34m)\u001b[0m\u001b[0;34m:\u001b[0m\u001b[0;34m\u001b[0m\u001b[0m\n\u001b[0;32m--> 389\u001b[0;31m             \u001b[0;32mraise\u001b[0m \u001b[0mTypeError\u001b[0m\u001b[0;34m(\u001b[0m\u001b[0;34m\"data argument can't be an iterator\"\u001b[0m\u001b[0;34m)\u001b[0m\u001b[0;34m\u001b[0m\u001b[0m\n\u001b[0m\u001b[1;32m    390\u001b[0m         \u001b[0;32melse\u001b[0m\u001b[0;34m:\u001b[0m\u001b[0;34m\u001b[0m\u001b[0m\n\u001b[1;32m    391\u001b[0m             \u001b[0;32mtry\u001b[0m\u001b[0;34m:\u001b[0m\u001b[0;34m\u001b[0m\u001b[0m\n",
      "\u001b[0;31mTypeError\u001b[0m: data argument can't be an iterator"
     ]
    }
   ],
   "source": [
    "#csv.register_dialect('mydialect',delimiter = '\\t',quotechar = '\"', doublequote = True, skipinitialspace = True,\n",
    "#                     lineterminator = '\\n',quoting = csv.QUOTE_MINIMAL)\n",
    "hg38gtf=open(\"urine1/cuffcompare_results_hg38_gtf_guided/cuffmerge.combined.gtf\",\"r\")\n",
    "hg38GTFcsv = pd.DataFrame(hg38gtf,columns=['seqid','source','type','start', 'end','score','strand','phase','gene_id','gene_name','transcript_id','tss_id','p_id','geneID'])\n",
    "hg38GTFcsv\n",
    "#csvreader = csv.reader(hg38GTFcsv, dialect='mydialect')\n",
    "#csvreader\n"
   ]
  },
  {
   "cell_type": "code",
   "execution_count": 30,
   "metadata": {},
   "outputs": [
    {
     "data": {
      "text/plain": [
       "<_csv.reader at 0x7ff6756db5f8>"
      ]
     },
     "execution_count": 30,
     "metadata": {},
     "output_type": "execute_result"
    }
   ],
   "source": [
    "hg38GTFcsv = pd.read_csv('urine1/cuffcompare_results_hg38_gtf_guided/cuffmerge.combined.gtf',\n",
    "                         names=['seqid','source','type','start', 'end','score','strand','phase','gene_id','gene_name',\n",
    "                                'transcript_id','tss_id','p_id','geneID'])\n",
    "hg38GTFcsv[:5]\n",
    "hg38csv = csv.reader(hg38GTFcsv, delimiter = '\\t', lineterminator = '\\n')\n",
    "hg38csv\n"
   ]
  },
  {
   "cell_type": "code",
   "execution_count": 16,
   "metadata": {},
   "outputs": [
    {
     "ename": "AttributeError",
     "evalue": "'_csv.reader' object has no attribute 'print'",
     "output_type": "error",
     "traceback": [
      "\u001b[0;31m---------------------------------------------------------------------------\u001b[0m",
      "\u001b[0;31mAttributeError\u001b[0m                            Traceback (most recent call last)",
      "\u001b[0;32m<ipython-input-16-657e8475b35f>\u001b[0m in \u001b[0;36m<module>\u001b[0;34m()\u001b[0m\n\u001b[1;32m     13\u001b[0m \u001b[0;34m\u001b[0m\u001b[0m\n\u001b[1;32m     14\u001b[0m     \u001b[0;31m# extracting field names through first row\u001b[0m\u001b[0;34m\u001b[0m\u001b[0;34m\u001b[0m\u001b[0m\n\u001b[0;32m---> 15\u001b[0;31m     \u001b[0mfields\u001b[0m \u001b[0;34m=\u001b[0m \u001b[0mcsvreader\u001b[0m\u001b[0;34m.\u001b[0m\u001b[0mprint\u001b[0m\u001b[0;34m(\u001b[0m\u001b[0;34m)\u001b[0m\u001b[0;34m\u001b[0m\u001b[0m\n\u001b[0m\u001b[1;32m     16\u001b[0m \u001b[0;34m\u001b[0m\u001b[0m\n\u001b[1;32m     17\u001b[0m \u001b[0;34m\u001b[0m\u001b[0m\n",
      "\u001b[0;31mAttributeError\u001b[0m: '_csv.reader' object has no attribute 'print'"
     ]
    }
   ],
   "source": [
    "# csv file name\n",
    "filename = \"urine1/cuffcompare_results_hg38_gtf_guided/cuffmerge.combined.gtf\"\n",
    "#\"urine1/cuffcompare_results_hg38_gtf_guided/cuffmerge.combined.gtf\"\n",
    " \n",
    "# initializing the titles and rows list\n",
    "fields = []\n",
    "rows = []\n",
    " \n",
    "# reading csv file\n",
    "with open(filename, 'r') as csvfile:\n",
    "    # creating a csv reader object\n",
    "    csvreader = csv.reader(csvfile)\n",
    "   \n",
    "    # extracting field names through first row\n",
    "    fields = csvreader.print()\n",
    " \n",
    "   "
   ]
  },
  {
   "cell_type": "code",
   "execution_count": null,
   "metadata": {},
   "outputs": [],
   "source": [
    "#! /usr/bin/env python\n",
    "# ID mapping using mygene\n",
    "# https://pypi.python.org/pypi/mygene\n",
    "# http://nbviewer.ipython.org/gist/newgene/6771106\n",
    "# http://mygene-py.readthedocs.org/en/latest/\n",
    "# 08/30/14\n",
    "\n",
    "__author__ = 'tommy'\n",
    "\n",
    "import mygene\n",
    "import fileinput\n",
    "import sys\n",
    "\n",
    "\n",
    "mg = mygene.MyGeneInfo()\n",
    "\n",
    "# mapping gene symbols to Entrez gene ids and Ensemble gene ids.\n",
    "# fileinput will loop through all the lines in the input specified as file names given in command-line arguments,\n",
    "# or the standard input if no arguments are provided.\n",
    "\n",
    "# build a list from an input file with one gene name in each line\n",
    "def get_gene_symbols():\n",
    "    gene_symbols = []\n",
    "    for line in fileinput.input():\n",
    "        gene_symbol = line.strip()  # assume each line contains only one gene symbol\n",
    "        gene_symbols.append(gene_symbol)\n",
    "    fileinput.close()\n",
    "    return gene_symbols\n",
    "\n",
    "\n",
    "Entrez_ids = mg.querymany(get_gene_symbols(), scopes='symbol', fields='entrezgene, ensembl.gene', species='human',\n",
    "                          as_dataframe=True, verbose=False)\n",
    "\n",
    "# set as_dataframe to True will return a pandas dataframe object, verbose=False suppress the messages like \"finished\".\n",
    "\n",
    "# Entrez_ids.to_csv(sys.stdout, sep=\"\\t\")  # write the dataframe to stdout, but will not have NaNs on the screen\n",
    "# if no matches were found\n",
    "\n",
    "sys.stdout.write(Entrez_ids.to_string())  # sys.stdout.write()  expects the character buffer object\n",
    "\n",
    "# Entrez_ids.to_csv(\"Entrez_ids.txt\", sep=\"\\t\")    # write the pandas dataframe to csv"
   ]
  },
  {
   "cell_type": "code",
   "execution_count": 2,
   "metadata": {},
   "outputs": [],
   "source": [
    "umb_triley/urine1/cuffcompare_results_hg38_gtf_guided\n",
    "\n",
    "path.exists(\"guru99.txt\")"
   ]
  },
  {
   "cell_type": "markdown",
   "metadata": {},
   "source": [
    "### Mapping gene symbols to Entrez gene ids"
   ]
  },
  {
   "cell_type": "markdown",
   "metadata": {},
   "source": [
    "Suppose **xli** is a list of gene symbols you want to convert to entrez gene ids:"
   ]
  },
  {
   "cell_type": "code",
   "execution_count": 2,
   "metadata": {},
   "outputs": [],
   "source": [
    "#! /usr/bin/env python\n",
    "\n",
    "# ID mapping using mygene\n",
    "# https://pypi.python.org/pypi/mygene\n",
    "# http://nbviewer.ipython.org/gist/newgene/6771106\n",
    "# http://mygene-py.readthedocs.org/en/latest/\n",
    "# 08/30/14\n",
    "\n",
    "__author__ = 'tommy'\n",
    "\n",
    "import mygene\n",
    "import fileinput\n",
    "import sys\n",
    "\n",
    "\n",
    "mg = mygene.MyGeneInfo()\n",
    "\n",
    "# mapping gene symbols to Entrez gene ids and Ensemble gene ids.\n",
    "# fileinput will loop through all the lines in the input specified as file names given in command-line arguments,\n",
    "# or the standard input if no arguments are provided.\n",
    "\n",
    "# build a list from an input file with one gene name in each line\n",
    "def get_gene_symbols():\n",
    "    gene_symbols = []\n",
    "    for line in fileinput.input():\n",
    "        gene_symbol = line.strip()  # assume each line contains only one gene symbol\n",
    "        gene_symbols.append(gene_symbol)\n",
    "    fileinput.close()\n",
    "    return gene_symbols\n",
    "\n",
    "\n",
    "Entrez_ids = mg.querymany(get_gene_symbols(), scopes='symbol', fields='entrezgene, ensembl.gene', species='human',\n",
    "                          as_dataframe=True, verbose=False)\n",
    "\n",
    "# set as_dataframe to True will return a pandas dataframe object, verbose=False suppress the messages like \"finished\".\n",
    "\n",
    "# Entrez_ids.to_csv(sys.stdout, sep=\"\\t\")  # write the dataframe to stdout, but will not have NaNs on the screen\n",
    "# if no matches were found\n",
    "\n",
    "sys.stdout.write(Entrez_ids.to_string())  # sys.stdout.write()  expects the character buffer object\n",
    "\n",
    "# Entrez_ids.to_csv(\"Entrez_ids.txt\", sep=\"\\t\")    # write the pandas dataframe to csv\n",
    " 'ACOT8']"
   ]
  },
  {
   "cell_type": "markdown",
   "metadata": {},
   "source": [
    "  you can then call **querymany** method, telling it your input is \"symbol\", and you want \"entrezgene\" (Entrez gene ids) back."
   ]
  },
  {
   "cell_type": "code",
   "execution_count": 3,
   "metadata": {},
   "outputs": [
    {
     "name": "stdout",
     "output_type": "stream",
     "text": [
      "Finished.\n"
     ]
    }
   ],
   "source": [
    "out = mg.querymany(xli, scopes='symbol', fields='entrezgene', species='human')"
   ]
  },
  {
   "cell_type": "markdown",
   "metadata": {},
   "source": [
    "Returned \"**out**\" looks like this:"
   ]
  },
  {
   "cell_type": "code",
   "execution_count": 4,
   "metadata": {},
   "outputs": [
    {
     "data": {
      "text/plain": [
       "[{u'_id': u'203522', u'entrezgene': 203522, u'query': u'DDX26B'},\n",
       " {u'_id': u'220047', u'entrezgene': 220047, u'query': u'CCDC83'},\n",
       " {u'_id': u'23031', u'entrezgene': 23031, u'query': u'MAST3'},\n",
       " {u'_id': u'10211', u'entrezgene': 10211, u'query': u'FLOT1'},\n",
       " {u'_id': u'6135', u'entrezgene': 6135, u'query': u'RPL11'},\n",
       " {u'_id': u'253832', u'entrezgene': 253832, u'query': u'ZDHHC20'},\n",
       " {u'_id': u'51747', u'entrezgene': 51747, u'query': u'LUC7L3'},\n",
       " {u'_id': u'26800', u'entrezgene': 26800, u'query': u'SNORD49A'},\n",
       " {u'_id': u'1512', u'entrezgene': 1512, u'query': u'CTSH'},\n",
       " {u'_id': u'10005', u'entrezgene': 10005, u'query': u'ACOT8'}]"
      ]
     },
     "execution_count": 4,
     "metadata": {},
     "output_type": "execute_result"
    }
   ],
   "source": [
    "out"
   ]
  },
  {
   "cell_type": "markdown",
   "metadata": {},
   "source": [
    "The mapping result is returned as a list of dictionaries. Each dictionary contains the **fields** you asked to return, in this case, \"entrezgene\" field. Each dictionary also returns the matching query term, \"**query**\", and an internal id, \"**_id**\", which is the same as \"**entrezgene**\" most of time (will be an ensembl gene id if a gene is available from Ensembl only)."
   ]
  },
  {
   "cell_type": "markdown",
   "metadata": {},
   "source": [
    "### Mapping gene symbols to Ensembl gene ids"
   ]
  },
  {
   "cell_type": "markdown",
   "metadata": {},
   "source": [
    "Now if you want Ensembl gene ids back:"
   ]
  },
  {
   "cell_type": "code",
   "execution_count": 5,
   "metadata": {},
   "outputs": [
    {
     "name": "stdout",
     "output_type": "stream",
     "text": [
      "Finished.\n"
     ]
    },
    {
     "data": {
      "text/plain": [
       "[{u'_id': u'203522',\n",
       "  u'ensembl.gene': [u'ENSG00000165359', u'ENSG00000268630'],\n",
       "  u'query': u'DDX26B'},\n",
       " {u'_id': u'220047', u'ensembl.gene': u'ENSG00000150676', u'query': u'CCDC83'},\n",
       " {u'_id': u'23031', u'ensembl.gene': u'ENSG00000099308', u'query': u'MAST3'},\n",
       " {u'_id': u'10211',\n",
       "  u'ensembl.gene': [u'ENSG00000137312',\n",
       "   u'ENSG00000206379',\n",
       "   u'ENSG00000206480',\n",
       "   u'ENSG00000223654',\n",
       "   u'ENSG00000224740',\n",
       "   u'ENSG00000230143',\n",
       "   u'ENSG00000232280',\n",
       "   u'ENSG00000236271'],\n",
       "  u'query': u'FLOT1'},\n",
       " {u'_id': u'6135', u'ensembl.gene': u'ENSG00000142676', u'query': u'RPL11'},\n",
       " {u'_id': u'253832',\n",
       "  u'ensembl.gene': u'ENSG00000180776',\n",
       "  u'query': u'ZDHHC20'},\n",
       " {u'_id': u'51747', u'ensembl.gene': u'ENSG00000108848', u'query': u'LUC7L3'},\n",
       " {u'_id': u'26800',\n",
       "  u'ensembl.gene': [u'ENSG00000206956', u'ENSG00000175061'],\n",
       "  u'query': u'SNORD49A'},\n",
       " {u'_id': u'1512', u'ensembl.gene': u'ENSG00000103811', u'query': u'CTSH'},\n",
       " {u'_id': u'10005', u'ensembl.gene': u'ENSG00000101473', u'query': u'ACOT8'}]"
      ]
     },
     "execution_count": 5,
     "metadata": {},
     "output_type": "execute_result"
    }
   ],
   "source": [
    "mg.querymany(xli, scopes='symbol', fields='ensembl.gene', species='human')"
   ]
  },
  {
   "cell_type": "markdown",
   "metadata": {},
   "source": [
    "### When an input id has no matching gene"
   ]
  },
  {
   "cell_type": "markdown",
   "metadata": {},
   "source": [
    "In case that an input id has no matching gene, you will be notified from the output.The returned dictionary for this query term contains \"notfound\" value as *True*."
   ]
  },
  {
   "cell_type": "code",
   "execution_count": 6,
   "metadata": {},
   "outputs": [],
   "source": [
    "xli = ['DDX26B',\n",
    " 'CCDC83',\n",
    " 'MAST3',\n",
    " 'FLOT1',\n",
    " 'RPL11',\n",
    " 'Gm10494']"
   ]
  },
  {
   "cell_type": "code",
   "execution_count": 7,
   "metadata": {},
   "outputs": [
    {
     "name": "stdout",
     "output_type": "stream",
     "text": [
      "Finished.\n",
      "1 input query terms found no hit:\n",
      "\t[u'Gm10494']\n",
      "Pass \"returnall=True\" to return complete lists of duplicate or missing query terms.\n"
     ]
    },
    {
     "data": {
      "text/plain": [
       "[{u'_id': u'203522', u'entrezgene': 203522, u'query': u'DDX26B'},\n",
       " {u'_id': u'220047', u'entrezgene': 220047, u'query': u'CCDC83'},\n",
       " {u'_id': u'23031', u'entrezgene': 23031, u'query': u'MAST3'},\n",
       " {u'_id': u'10211', u'entrezgene': 10211, u'query': u'FLOT1'},\n",
       " {u'_id': u'6135', u'entrezgene': 6135, u'query': u'RPL11'},\n",
       " {u'notfound': True, u'query': u'Gm10494'}]"
      ]
     },
     "execution_count": 7,
     "metadata": {},
     "output_type": "execute_result"
    }
   ],
   "source": [
    "mg.querymany(xli, scopes='symbol', fields='entrezgene', species='human')"
   ]
  },
  {
   "cell_type": "markdown",
   "metadata": {},
   "source": [
    "### When input ids are not just symbols"
   ]
  },
  {
   "cell_type": "code",
   "execution_count": 8,
   "metadata": {},
   "outputs": [],
   "source": [
    "xli = ['DDX26B',\n",
    " 'CCDC83',\n",
    " 'MAST3',\n",
    " 'FLOT1',\n",
    " 'RPL11',\n",
    " 'Gm10494',\n",
    " '1007_s_at',\n",
    " 'AK125780']"
   ]
  },
  {
   "cell_type": "markdown",
   "metadata": {},
   "source": [
    "Above id list contains symbols, reporters and accession numbers, and supposedly we want to get back both Entrez gene ids and uniprot ids. Parameters **scopes**, **fields**, **species** are all flexible enough to support multiple values, either a list or a comma-separated string:"
   ]
  },
  {
   "cell_type": "code",
   "execution_count": 9,
   "metadata": {},
   "outputs": [
    {
     "name": "stdout",
     "output_type": "stream",
     "text": [
      "Finished.\n",
      "1 input query terms found dup hits:\n",
      "\t[(u'1007_s_at', 2)]\n",
      "1 input query terms found no hit:\n",
      "\t[u'Gm10494']\n",
      "Pass \"returnall=True\" to return complete lists of duplicate or missing query terms.\n"
     ]
    },
    {
     "data": {
      "text/plain": [
       "[{u'_id': u'203522',\n",
       "  u'entrezgene': 203522,\n",
       "  u'query': u'DDX26B',\n",
       "  u'uniprot': {u'Swiss-Prot': u'Q5JSJ4'}},\n",
       " {u'_id': u'220047',\n",
       "  u'entrezgene': 220047,\n",
       "  u'query': u'CCDC83',\n",
       "  u'uniprot': {u'Swiss-Prot': u'Q8IWF9'}},\n",
       " {u'_id': u'23031',\n",
       "  u'entrezgene': 23031,\n",
       "  u'query': u'MAST3',\n",
       "  u'uniprot': {u'Swiss-Prot': u'O60307'}},\n",
       " {u'_id': u'10211',\n",
       "  u'entrezgene': 10211,\n",
       "  u'query': u'FLOT1',\n",
       "  u'uniprot': {u'Swiss-Prot': u'O75955', u'TrEMBL': u'Q5ST80'}},\n",
       " {u'_id': u'6135',\n",
       "  u'entrezgene': 6135,\n",
       "  u'query': u'RPL11',\n",
       "  u'uniprot': {u'Swiss-Prot': u'P62913', u'TrEMBL': u'Q5VVD0'}},\n",
       " {u'notfound': True, u'query': u'Gm10494'},\n",
       " {u'_id': u'100616237', u'entrezgene': 100616237, u'query': u'1007_s_at'},\n",
       " {u'_id': u'780',\n",
       "  u'entrezgene': 780,\n",
       "  u'query': u'1007_s_at',\n",
       "  u'uniprot': {u'Swiss-Prot': u'Q08345', u'TrEMBL': [u'Q96T61', u'Q96T62']}},\n",
       " {u'_id': u'2978',\n",
       "  u'entrezgene': 2978,\n",
       "  u'query': u'AK125780',\n",
       "  u'uniprot': {u'Swiss-Prot': u'P43080'}}]"
      ]
     },
     "execution_count": 9,
     "metadata": {},
     "output_type": "execute_result"
    }
   ],
   "source": [
    "mg.querymany(xli, scopes='symbol,reporter,accession', fields='entrezgene,uniprot', species='human')"
   ]
  },
  {
   "cell_type": "markdown",
   "metadata": {},
   "source": [
    "### When a input id has multiple matching genes"
   ]
  },
  {
   "cell_type": "markdown",
   "metadata": {},
   "source": [
    "From the previous result, you may have noticed that query term \"1007_s_at\" matches two genes. In that case, you will be notified from the output, and the returned result will include both matching genes.\n",
    "\n",
    "By passing \"returnall=True\", you will get both duplicate or missing query terms, together with the mapping output, from the returned result:"
   ]
  },
  {
   "cell_type": "code",
   "execution_count": 10,
   "metadata": {},
   "outputs": [
    {
     "name": "stdout",
     "output_type": "stream",
     "text": [
      "Finished.\n",
      "1 input query terms found dup hits:\n",
      "\t[(u'1007_s_at', 2)]\n",
      "1 input query terms found no hit:\n",
      "\t[u'Gm10494']\n"
     ]
    },
    {
     "data": {
      "text/plain": [
       "{'dup': [(u'1007_s_at', 2)],\n",
       " 'missing': [u'Gm10494'],\n",
       " 'out': [{u'_id': u'203522',\n",
       "   u'entrezgene': 203522,\n",
       "   u'query': u'DDX26B',\n",
       "   u'uniprot': {u'Swiss-Prot': u'Q5JSJ4'}},\n",
       "  {u'_id': u'220047',\n",
       "   u'entrezgene': 220047,\n",
       "   u'query': u'CCDC83',\n",
       "   u'uniprot': {u'Swiss-Prot': u'Q8IWF9'}},\n",
       "  {u'_id': u'23031',\n",
       "   u'entrezgene': 23031,\n",
       "   u'query': u'MAST3',\n",
       "   u'uniprot': {u'Swiss-Prot': u'O60307'}},\n",
       "  {u'_id': u'10211',\n",
       "   u'entrezgene': 10211,\n",
       "   u'query': u'FLOT1',\n",
       "   u'uniprot': {u'Swiss-Prot': u'O75955', u'TrEMBL': u'Q5ST80'}},\n",
       "  {u'_id': u'6135',\n",
       "   u'entrezgene': 6135,\n",
       "   u'query': u'RPL11',\n",
       "   u'uniprot': {u'Swiss-Prot': u'P62913', u'TrEMBL': u'Q5VVD0'}},\n",
       "  {u'notfound': True, u'query': u'Gm10494'},\n",
       "  {u'_id': u'100616237', u'entrezgene': 100616237, u'query': u'1007_s_at'},\n",
       "  {u'_id': u'780',\n",
       "   u'entrezgene': 780,\n",
       "   u'query': u'1007_s_at',\n",
       "   u'uniprot': {u'Swiss-Prot': u'Q08345', u'TrEMBL': [u'Q96T61', u'Q96T62']}},\n",
       "  {u'_id': u'2978',\n",
       "   u'entrezgene': 2978,\n",
       "   u'query': u'AK125780',\n",
       "   u'uniprot': {u'Swiss-Prot': u'P43080'}}]}"
      ]
     },
     "execution_count": 10,
     "metadata": {},
     "output_type": "execute_result"
    }
   ],
   "source": [
    "mg.querymany(xli, scopes='symbol,reporter,accession', fields='entrezgene,uniprot', species='human', returnall=True)"
   ]
  },
  {
   "cell_type": "markdown",
   "metadata": {},
   "source": [
    "The returned result above contains \"**out**\" for mapping output, \"**missing**\" for missing query terms (a list), and \"**dup**\" for query terms with multiple matches (including the number of matches)."
   ]
  },
  {
   "cell_type": "markdown",
   "metadata": {},
   "source": [
    "### Can I convert a very large list of ids?"
   ]
  },
  {
   "cell_type": "markdown",
   "metadata": {},
   "source": [
    "Yes, you can. If you pass an id list (i.e., **xli** above) larger than 1000 ids, we will do the id mapping in-batch with 1000 ids at a time, and then concatenate the results all together for you. So, from the user-end, it's exactly the same as passing a shorter list. You don't need to worry about saturating our backend servers."
   ]
  },
  {
   "cell_type": "markdown",
   "metadata": {},
   "source": [
    "### To read more"
   ]
  },
  {
   "cell_type": "markdown",
   "metadata": {},
   "source": [
    "* [MyGene.info](http://mygene.info)\n",
    "    * [Batch queries via POST](http://mygene.info/doc/query_service.html#batch-queries-via-post)\n",
    "        * [**scopes** parameter](http://mygene.info/doc/query_service.html#scopes)\n",
    "        * [**fields** parameter](http://mygene.info/doc/query_service.html#fields)\n",
    "        * [**species** parameter](http://mygene.info/doc/query_service.html#species)\n",
    "* [mygene module](https://crate.io/packages/mygene/)"
   ]
  }
 ],
 "metadata": {
  "kernelspec": {
   "display_name": "Python 3",
   "language": "python",
   "name": "python3"
  },
  "language_info": {
   "codemirror_mode": {
    "name": "ipython",
    "version": 3
   },
   "file_extension": ".py",
   "mimetype": "text/x-python",
   "name": "python",
   "nbconvert_exporter": "python",
   "pygments_lexer": "ipython3",
   "version": "3.5.4"
  }
 },
 "nbformat": 4,
 "nbformat_minor": 1
}
